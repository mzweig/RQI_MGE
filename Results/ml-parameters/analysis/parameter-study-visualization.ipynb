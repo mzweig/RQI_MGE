{
 "cells": [
  {
   "cell_type": "markdown",
   "metadata": {},
   "source": [
    "This notebook analyzes the results from a run of the short c5g7 examples with a small mesh to determine the optimal parameters for the multilevel preconditioner when using RQI.\n",
    "\n",
    "The parameters that were varied were the following:\n",
    "\n",
    "* 'subspace_size' : [50, 100, 150],\n",
    "* 'num_v_cycles'  : [1, 2, 3],\n",
    "* 'num_relax'     : [1, 2, 3],\n",
    "* 'relax_weight'  : [0.8, 1.0, 1.2]"
   ]
  },
  {
   "cell_type": "code",
   "execution_count": null,
   "metadata": {
    "collapsed": true
   },
   "outputs": [],
   "source": [
    "import h5py as h5\n",
    "import numpy as np\n",
    "import matplotlib.pyplot as plt\n",
    "import glob\n",
    "import sys\n",
    "import os\n",
    "import pandas as pd\n",
    "import seaborn as sns\n",
    "\n",
    "%matplotlib inline"
   ]
  },
  {
   "cell_type": "code",
   "execution_count": null,
   "metadata": {},
   "outputs": [],
   "source": [
    "solve_times = {}\n",
    "for dir in glob.glob(\"../results/*\"):\n",
    "    d = os.path.basename(dir)\n",
    "    output = '{}/c5g7_small.out.h5'.format(dir)\n",
    "    with h5.File(str(output), 'r') as f:\n",
    "        if 'denovo' in f.keys():\n",
    "            solve_times[d] = f['denovo']['timers'][-1][1]\n",
    "        else:\n",
    "            print(d)"
   ]
  },
  {
   "cell_type": "code",
   "execution_count": null,
   "metadata": {
    "collapsed": true
   },
   "outputs": [],
   "source": [
    "subspace = ['050', '100', '150']\n",
    "vcyc = ['1', '2', '3']\n",
    "relax = ['1', '2', '3']\n",
    "relaxwt = ['0.8', '1.0', '1.2']\n",
    "df = np.zeros((3,3,3,3))\n",
    "for k,v in solve_times.iteritems():\n",
    "    c = k.split('-')\n",
    "    ss = c[1].strip('ss')\n",
    "    vc = c[2].strip('vcyc0')\n",
    "    rn = c[3].strip('r0')\n",
    "    rwt = c[4].strip('rwt')\n",
    "    ssi = subspace.index(ss)\n",
    "    vci = vcyc.index(vc)\n",
    "    rni = relax.index(rn)\n",
    "    rwti = relaxwt.index(rwt)\n",
    "    df[ssi, vci, rni, rwti] = v"
   ]
  },
  {
   "cell_type": "code",
   "execution_count": null,
   "metadata": {
    "collapsed": true
   },
   "outputs": [],
   "source": [
    "# Set exceeds walltime to NaN\n",
    "df[df==0] = np.nan\n",
    "        \n",
    "# Rearrange Timing Data to Match up with New Ordering\n",
    "times = np.zeros(81)\n",
    "\n",
    "i = 0\n",
    "for counts in range(3):\n",
    "    for cycles in range(3):\n",
    "        for weight in range(3):\n",
    "            for subspace in range(3):\n",
    "                times[i] = df[subspace, cycles, counts, weight]\n",
    "                i += 1\n",
    "                \n",
    "# Dividing by 1e4 so that annotations are easier to read\n",
    "# Include explanation in figure caption\n",
    "times = times/1e4"
   ]
  },
  {
   "cell_type": "code",
   "execution_count": null,
   "metadata": {},
   "outputs": [],
   "source": [
    "ss = np.tile([50, 100, 150], 27)\n",
    "rw = np.tile(np.repeat([0.8, 1.0, 1.2], 3), 9)\n",
    "vc = np.tile(np.repeat([1, 2, 3], 9), 3)\n",
    "rc = np.repeat([1, 2, 3], 27)\n",
    "parameters = np.c_[ss, rw, vc, rc, times]\n",
    "data = pd.DataFrame(parameters, \n",
    "                  columns=[\"Subspace Size\", \"Relax Weight\",\"V-Cycles\", \"Relax Count\", \"Times\"])\n",
    "\n",
    "def facet_heatmap(data, color, **kws):\n",
    "    data = data.pivot(index=\"Relax Weight\", columns=\"Subspace Size\", values=\"Times\") \n",
    "    sns.heatmap(data, cmap=\"Blues_r\", annot=True,fmt='.3g', **kws)\n",
    "\n",
    "grid = sns.FacetGrid(data, col=\"V-Cycles\", row=\"Relax Count\", margin_titles=True, \n",
    "                     col_order = [1, 2, 3], row_order=[1, 2, 3])\n",
    "\n",
    "cbar_ax = grid.fig.add_axes([.92, .3, .02, .4])\n",
    "\n",
    "grid = grid.map_dataframe(facet_heatmap,\n",
    "                    cbar_ax=cbar_ax, vmin=1.6, vmax=3.2) \n",
    "grid.set_axis_labels(\"Subspace Size\", \"Relax Weight\")\n",
    "\n",
    "plt.subplots_adjust(top=0.9)\n",
    "grid.fig.suptitle('RQI Parameters vs. Run Times (1e4 s)', fontweight=\"bold\")\n",
    "\n",
    "grid = grid.fig.subplots_adjust(right=.8)\n",
    "\n",
    "sns.plt.show()"
   ]
  },
  {
   "cell_type": "code",
   "execution_count": null,
   "metadata": {},
   "outputs": [],
   "source": [
    "### Plot Fixing Relax Weight to 1.2 ###\n",
    "\n",
    "# Find times with relax weight 1.2\n",
    "fixed_rwt_times = np.zeros(27)\n",
    "i = 0\n",
    "for counts in range(3):\n",
    "    for cycles in range(3):\n",
    "        for subspace in range(3):\n",
    "            fixed_rwt_times[i] = df[subspace, cycles, counts, 2]\n",
    "            i += 1\n",
    "# Divide by 1e4 for clarity of graph\n",
    "fixed_rwt_times = fixed_rwt_times/1e4\n",
    "\n",
    "ss = np.tile([50, 100, 150], 9)\n",
    "rw = np.repeat(1.2, 27)\n",
    "vc = np.tile(np.repeat([1, 2, 3], 3), 3)\n",
    "rc = np.repeat([1, 2, 3], 9)              \n",
    "parameters = np.c_[ss, rw, vc, rc, fixed_rwt_times]\n",
    "data = pd.DataFrame(parameters, \n",
    "                  columns=[\"Subspace Size\", \"Relax Weight\",\"V-Cycles\", \"Relax Count\", \"Times\"])\n",
    "\n",
    "def facet_heatmap(data, color, **kws):\n",
    "    data = data.pivot(index=\"Relax Weight\", columns=\"Subspace Size\", values=\"Times\") \n",
    "    sns.heatmap(data, cmap=\"Blues_r\", annot=True, fmt='.3g', **kws)\n",
    "\n",
    "grid = sns.FacetGrid(data, col=\"V-Cycles\", row=\"Relax Count\", margin_titles=True, \n",
    "                     col_order = [1, 2, 3], row_order=[1, 2, 3], size=2.0, aspect=3.0)\n",
    "\n",
    "cbar_ax = grid.fig.add_axes([.92, .3, .02, .4])\n",
    "\n",
    "grid = grid.map_dataframe(facet_heatmap,\n",
    "                    cbar_ax=cbar_ax, vmin=1.6, vmax=2.6) \n",
    "grid.set_axis_labels(\"Subspace Size\", \"Relax Weight\")\n",
    "\n",
    "plt.subplots_adjust(top=0.9)\n",
    "grid.fig.suptitle('RQI Parameters vs. Run Times with Fixed Relax Weight (1e4 s)', fontweight=\"bold\")\n",
    "\n",
    "grid = grid.fig.subplots_adjust(right=.8)\n",
    "\n",
    "sns.plt.show()"
   ]
  },
  {
   "cell_type": "code",
   "execution_count": null,
   "metadata": {
    "collapsed": true
   },
   "outputs": [],
   "source": []
  }
 ],
 "metadata": {
  "kernelspec": {
   "display_name": "Python 2",
   "language": "python",
   "name": "python2"
  },
  "language_info": {
   "codemirror_mode": {
    "name": "ipython",
    "version": 2
   },
   "file_extension": ".py",
   "mimetype": "text/x-python",
   "name": "python",
   "nbconvert_exporter": "python",
   "pygments_lexer": "ipython2",
   "version": "2.7.13"
  }
 },
 "nbformat": 4,
 "nbformat_minor": 2
}
